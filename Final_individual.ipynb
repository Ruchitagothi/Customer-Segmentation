{
 "cells": [
  {
   "cell_type": "code",
   "execution_count": 1,
   "id": "d5d8f77b-913a-48b1-877c-5122201dbea3",
   "metadata": {},
   "outputs": [],
   "source": [
    "import numpy as np\n",
    "import pandas as pd\n",
    "import matplotlib.pyplot as plt\n",
    "import seaborn as sns\n",
    "from sklearn.cluster import KMeans\n",
    "from tkinter import filedialog\n",
    "from matplotlib.backends.backend_tkagg import FigureCanvasTkAgg"
   ]
  },
  {
   "cell_type": "markdown",
   "id": "5ae96be1-84f2-4d76-9fc6-4d9b03c2412d",
   "metadata": {},
   "source": [
    "### collect data from csv file and anylisis method"
   ]
  },
  {
   "cell_type": "code",
   "execution_count": 12,
   "id": "8347aef9-c67e-4378-ba3f-cdf556d4733a",
   "metadata": {},
   "outputs": [],
   "source": [
    "def data_collection(file_name):\n",
    "    # loading the data from csv file to a Pandas DataFrame\n",
    "    global customer_data\n",
    "    customer_data = pd.read_csv(file_name)\n",
    "    # getting some informations about the dataset\n",
    "    print('Info about dataset: ')\n",
    "    print()\n",
    "    print(customer_data)\n",
    "    print(customer_data.info())"
   ]
  },
  {
   "cell_type": "code",
   "execution_count": 4,
   "id": "b28a9469-cb8d-4dbd-9dd9-eaff9913d6ad",
   "metadata": {},
   "outputs": [],
   "source": [
    "#finding the number of rows and dataset\n",
    "# customer_data.shape"
   ]
  },
  {
   "cell_type": "code",
   "execution_count": 5,
   "id": "9f670b25-ec22-4d42-8d53-d654cb0f48ea",
   "metadata": {},
   "outputs": [],
   "source": [
    "#checking for missing values\n",
    "# customer_data.isnull().sum()"
   ]
  },
  {
   "cell_type": "code",
   "execution_count": 3,
   "id": "7f0044e2-cd33-4d71-ad63-e919e14f1906",
   "metadata": {},
   "outputs": [],
   "source": [
    "#get annual income column and get spending Score column\n",
    "def choose_cols(i1,i2):\n",
    "    X1 = customer_data.iloc[:,[i1,i2]].values\n",
    "    return X1\n",
    "    "
   ]
  },
  {
   "cell_type": "markdown",
   "id": "424cd48d-c605-4e24-80bb-1bb625b233bb",
   "metadata": {},
   "source": [
    "### how many number clusters : Elbow method"
   ]
  },
  {
   "cell_type": "code",
   "execution_count": 4,
   "id": "64f2c0c3-f61f-49b1-afcd-03fc32a2507f",
   "metadata": {},
   "outputs": [],
   "source": [
    "def elbow_graph(X1):\n",
    "    # finding wcss value for different number of clusters\n",
    "    wcss = []   #within clusters sum of square\n",
    "    for i in range(1,11):\n",
    "        kmeans = KMeans(n_clusters=i, init='k-means++', random_state=42)\n",
    "        kmeans.fit(X1)\n",
    "        wcss.append(kmeans.inertia_)  #wscc values give\n",
    "        \n",
    "\n",
    "    # plot an elbow graph\n",
    "    sns.set()\n",
    "    plt.figure(figsize=(5,5))\n",
    "    plt.plot(range(1,11), wcss)\n",
    "    plt.title('The Elbow Point Graph')\n",
    "    plt.xlabel('Number of Clusters')\n",
    "    plt.ylabel('WCSS')\n",
    "    plt.show()\n",
    "        "
   ]
  },
  {
   "cell_type": "markdown",
   "id": "8b9274d6-7b60-4477-b2c2-6ad346bdedc5",
   "metadata": {},
   "source": [
    "### Train clustering model"
   ]
  },
  {
   "cell_type": "code",
   "execution_count": 5,
   "id": "46cd30c9-295e-4138-b3ad-c5b3181efc43",
   "metadata": {},
   "outputs": [],
   "source": [
    "kmeans= None\n",
    "def train_model(cluster_no):\n",
    "    global kmeans\n",
    "    kmeans = KMeans(n_clusters=cluster_no, init='k-means++', random_state=0)\n",
    "\n",
    "    # return a label for each data point based on their cluster\n",
    "    cluster_grps = kmeans.fit_predict(X1)\n",
    "    return cluster_grps"
   ]
  },
  {
   "cell_type": "markdown",
   "id": "c9ec6d58-12a1-48c1-8a66-1032f9d48d80",
   "metadata": {},
   "source": [
    "### graph all the Clusters"
   ]
  },
  {
   "cell_type": "code",
   "execution_count": 6,
   "id": "29325853-cc47-434f-a5aa-820c6c3f8558",
   "metadata": {},
   "outputs": [],
   "source": [
    "def plot_clusters(X1,Y1,i1,i2,cn):\n",
    "    # plotting all the clusters and their Centroids\n",
    "    colors=['green','red','yellow','blue','violet','orange','brown']\n",
    "    plt.figure(figsize=(6,6))\n",
    "    for i in range(cn):\n",
    "        plt.scatter(X1[Y1==i,0], X1[Y1==i,1], s=50, c=colors[i], label=f'Cluster {i}')\n",
    "\n",
    "    # plot the centroids\n",
    "    plt.scatter(kmeans.cluster_centers_[:,0], kmeans.cluster_centers_[:,1], s=100, c='cyan', label='Centroids')\n",
    "\n",
    "    plt.title('Customer Groups')\n",
    "    plt.xlabel(customer_data.columns[i1])\n",
    "    plt.ylabel(customer_data.columns[i2])\n",
    "    plt.legend()\n",
    "    plt.show()\n",
    "\n",
    "    print('Tabular analysis: ')\n",
    "    centroids=kmeans.cluster_centers_\n",
    "    print(pd.DataFrame(centroids,columns=[customer_data.columns[i1],customer_data.columns[i2]]))"
   ]
  },
  {
   "cell_type": "markdown",
   "id": "8a751928-015e-40c8-83b4-c224458c0a2b",
   "metadata": {},
   "source": [
    "### Main code"
   ]
  },
  {
   "cell_type": "code",
   "execution_count": null,
   "id": "fa458b59-e192-4f36-aa36-98a49e4d8e4c",
   "metadata": {},
   "outputs": [
    {
     "name": "stdout",
     "output_type": "stream",
     "text": [
      "Enter file name:  Customers.csv\n"
     ]
    },
    {
     "name": "stdout",
     "output_type": "stream",
     "text": [
      "Info about dataset: \n",
      "\n",
      "     CustomerID  Gender  Age  Annual Income (k$)  Spending Score (1-100)\n",
      "0             1    Male   19                  15                      39\n",
      "1             2    Male   21                  15                      81\n",
      "2             3  Female   20                  16                       6\n",
      "3             4  Female   23                  16                      77\n",
      "4             5  Female   31                  17                      40\n",
      "..          ...     ...  ...                 ...                     ...\n",
      "195         196  Female   35                 120                      79\n",
      "196         197  Female   45                 126                      28\n",
      "197         198    Male   32                 126                      74\n",
      "198         199    Male   32                 137                      18\n",
      "199         200    Male   30                 137                      83\n",
      "\n",
      "[200 rows x 5 columns]\n",
      "<class 'pandas.core.frame.DataFrame'>\n",
      "RangeIndex: 200 entries, 0 to 199\n",
      "Data columns (total 5 columns):\n",
      " #   Column                  Non-Null Count  Dtype \n",
      "---  ------                  --------------  ----- \n",
      " 0   CustomerID              200 non-null    int64 \n",
      " 1   Gender                  200 non-null    object\n",
      " 2   Age                     200 non-null    int64 \n",
      " 3   Annual Income (k$)      200 non-null    int64 \n",
      " 4   Spending Score (1-100)  200 non-null    int64 \n",
      "dtypes: int64(4), object(1)\n",
      "memory usage: 7.9+ KB\n",
      "None\n",
      "Choose two columns for clustering\n"
     ]
    }
   ],
   "source": [
    "customer_data=None\n",
    "file_name=str(input('Enter file name: '))\n",
    "data_collection(file_name)\n",
    "\n",
    "choice=''\n",
    "while(choice.lower()!='q'):\n",
    "    print('Choose two columns for clustering')\n",
    "    i1=int(input('Index 1: '))\n",
    "    i2=int(input('Index 2: '))\n",
    "    X1=choose_cols(i1,i2)\n",
    "    #print(X1)\n",
    "    elbow_graph(X1)\n",
    "    \n",
    "    cluster_no=int(input('Enter optimal number of clusters from elbow graph: '))\n",
    "    cluster_grps=train_model(cluster_no)\n",
    "    \n",
    "    plot_clusters(X1,cluster_grps,i1,i2,cluster_no)\n",
    "    choice=str(input('Press any key fro another cluster graph or press (q) to exit: '))\n",
    "print('ThankYou')"
   ]
  },
  {
   "cell_type": "code",
   "execution_count": null,
   "id": "e2a12b83-3420-40de-a9da-3058ba1a3162",
   "metadata": {},
   "outputs": [],
   "source": []
  },
  {
   "cell_type": "code",
   "execution_count": null,
   "id": "1e8cb59a-5d74-44d5-ae47-f080e9088015",
   "metadata": {},
   "outputs": [],
   "source": []
  },
  {
   "cell_type": "code",
   "execution_count": null,
   "id": "259c9012-2571-47bf-80e0-993382547907",
   "metadata": {},
   "outputs": [],
   "source": []
  }
 ],
 "metadata": {
  "kernelspec": {
   "display_name": "Python 3 (ipykernel)",
   "language": "python",
   "name": "python3"
  },
  "language_info": {
   "codemirror_mode": {
    "name": "ipython",
    "version": 3
   },
   "file_extension": ".py",
   "mimetype": "text/x-python",
   "name": "python",
   "nbconvert_exporter": "python",
   "pygments_lexer": "ipython3",
   "version": "3.12.0"
  }
 },
 "nbformat": 4,
 "nbformat_minor": 5
}
